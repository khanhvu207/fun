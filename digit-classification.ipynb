{
 "cells": [
  {
   "cell_type": "code",
   "execution_count": 1,
   "id": "510a0bb7",
   "metadata": {
    "_cell_guid": "b1076dfc-b9ad-4769-8c92-a6c4dae69d19",
    "_uuid": "8f2839f25d086af736a60e9eeb907d3b93b6e0e5",
    "execution": {
     "iopub.execute_input": "2023-02-19T20:01:01.095957Z",
     "iopub.status.busy": "2023-02-19T20:01:01.095313Z",
     "iopub.status.idle": "2023-02-19T20:01:03.293774Z",
     "shell.execute_reply": "2023-02-19T20:01:03.292559Z"
    },
    "papermill": {
     "duration": 2.20908,
     "end_time": "2023-02-19T20:01:03.296820",
     "exception": false,
     "start_time": "2023-02-19T20:01:01.087740",
     "status": "completed"
    },
    "tags": []
   },
   "outputs": [],
   "source": [
    "import torch\n",
    "import torch.nn as nn\n",
    "from torchvision import transforms\n",
    "\n",
    "import pandas as pd\n",
    "import numpy as np\n",
    "from PIL import Image\n",
    "import matplotlib.pyplot as plt\n",
    "from tqdm.auto import tqdm"
   ]
  },
  {
   "cell_type": "code",
   "execution_count": 2,
   "id": "de3a6e94",
   "metadata": {
    "execution": {
     "iopub.execute_input": "2023-02-19T20:01:03.309307Z",
     "iopub.status.busy": "2023-02-19T20:01:03.307197Z",
     "iopub.status.idle": "2023-02-19T20:01:03.314117Z",
     "shell.execute_reply": "2023-02-19T20:01:03.312979Z"
    },
    "papermill": {
     "duration": 0.01531,
     "end_time": "2023-02-19T20:01:03.316702",
     "exception": false,
     "start_time": "2023-02-19T20:01:03.301392",
     "status": "completed"
    },
    "tags": []
   },
   "outputs": [],
   "source": [
    "device = \"cuda\" if torch.cuda.is_available() else \"cpu\""
   ]
  },
  {
   "cell_type": "markdown",
   "id": "3e2ffe02",
   "metadata": {
    "papermill": {
     "duration": 0.003981,
     "end_time": "2023-02-19T20:01:03.325047",
     "exception": false,
     "start_time": "2023-02-19T20:01:03.321066",
     "status": "completed"
    },
    "tags": []
   },
   "source": [
    "## Load data"
   ]
  },
  {
   "cell_type": "code",
   "execution_count": 3,
   "id": "3f7a3601",
   "metadata": {
    "execution": {
     "iopub.execute_input": "2023-02-19T20:01:03.335075Z",
     "iopub.status.busy": "2023-02-19T20:01:03.334670Z",
     "iopub.status.idle": "2023-02-19T20:01:03.822781Z",
     "shell.execute_reply": "2023-02-19T20:01:03.821712Z"
    },
    "papermill": {
     "duration": 0.496477,
     "end_time": "2023-02-19T20:01:03.825586",
     "exception": false,
     "start_time": "2023-02-19T20:01:03.329109",
     "status": "completed"
    },
    "tags": []
   },
   "outputs": [],
   "source": [
    "x_train = pd.read_csv(\"/kaggle/input/mnist-9x9/data/X_train.csv\").to_numpy().flatten().tolist()\n",
    "x_test = pd.read_csv(\"/kaggle/input/mnist-9x9/data/X_test.csv\").to_numpy().flatten().tolist()\n",
    "labels = torch.load(\"/kaggle/input/mnist-9x9/data/one_hot_10.pt\").argmax(dim=-1)"
   ]
  },
  {
   "cell_type": "markdown",
   "id": "0614578b",
   "metadata": {
    "papermill": {
     "duration": 0.0039,
     "end_time": "2023-02-19T20:01:03.833770",
     "exception": false,
     "start_time": "2023-02-19T20:01:03.829870",
     "status": "completed"
    },
    "tags": []
   },
   "source": [
    "## Dataloader"
   ]
  },
  {
   "cell_type": "code",
   "execution_count": 4,
   "id": "562244d0",
   "metadata": {
    "execution": {
     "iopub.execute_input": "2023-02-19T20:01:03.845561Z",
     "iopub.status.busy": "2023-02-19T20:01:03.843638Z",
     "iopub.status.idle": "2023-02-19T20:01:03.852820Z",
     "shell.execute_reply": "2023-02-19T20:01:03.851740Z"
    },
    "papermill": {
     "duration": 0.017297,
     "end_time": "2023-02-19T20:01:03.855285",
     "exception": false,
     "start_time": "2023-02-19T20:01:03.837988",
     "status": "completed"
    },
    "tags": []
   },
   "outputs": [],
   "source": [
    "class DigitDataset(torch.utils.data.Dataset):\n",
    "    def __init__(self, x, y, is_train=True):\n",
    "        self.x = x[:int(len(x) * 0.8)] if is_train else x[int(len(x) * 0.8):]\n",
    "        self.y = y\n",
    "        self.transform = transforms.Compose([\n",
    "            transforms.ToTensor(),\n",
    "        ])\n",
    "\n",
    "    def __len__(self):\n",
    "        return len(self.x)\n",
    "\n",
    "    def __getitem__(self, idx):\n",
    "        im = Image.open(f\"/kaggle/input/mnist-9x9/dataset/{self.x[idx]}.png\")\n",
    "        if self.transform:\n",
    "            im = self.transform(im)\n",
    "        return im, self.y[self.x[idx]]"
   ]
  },
  {
   "cell_type": "code",
   "execution_count": 5,
   "id": "2e05c5f0",
   "metadata": {
    "execution": {
     "iopub.execute_input": "2023-02-19T20:01:03.866165Z",
     "iopub.status.busy": "2023-02-19T20:01:03.865205Z",
     "iopub.status.idle": "2023-02-19T20:01:03.915426Z",
     "shell.execute_reply": "2023-02-19T20:01:03.913975Z"
    },
    "papermill": {
     "duration": 0.058873,
     "end_time": "2023-02-19T20:01:03.918444",
     "exception": false,
     "start_time": "2023-02-19T20:01:03.859571",
     "status": "completed"
    },
    "tags": []
   },
   "outputs": [
    {
     "data": {
      "text/plain": [
       "(torch.Size([1, 272, 272]), torch.Size([9, 9]))"
      ]
     },
     "execution_count": 5,
     "metadata": {},
     "output_type": "execute_result"
    }
   ],
   "source": [
    "train_ds = DigitDataset(x_train, labels, is_train=True)\n",
    "train_loader = torch.utils.data.DataLoader(train_ds, batch_size=32, shuffle=True)\n",
    "val_ds = DigitDataset(x_train, labels, is_train=False)\n",
    "val_loader = torch.utils.data.DataLoader(val_ds, batch_size=32, shuffle=False)\n",
    "\n",
    "# Check the shape of the data\n",
    "x, y = train_ds[0]\n",
    "x.shape, y.shape"
   ]
  },
  {
   "cell_type": "code",
   "execution_count": 6,
   "id": "2eaeb5fe",
   "metadata": {
    "execution": {
     "iopub.execute_input": "2023-02-19T20:01:03.929495Z",
     "iopub.status.busy": "2023-02-19T20:01:03.929084Z",
     "iopub.status.idle": "2023-02-19T20:01:04.351970Z",
     "shell.execute_reply": "2023-02-19T20:01:04.350823Z"
    },
    "papermill": {
     "duration": 0.432223,
     "end_time": "2023-02-19T20:01:04.355360",
     "exception": false,
     "start_time": "2023-02-19T20:01:03.923137",
     "status": "completed"
    },
    "tags": []
   },
   "outputs": [
    {
     "data": {
      "image/png": "[encoded data removed]",
      "text/plain": [
       "<Figure size 500x500 with 1 Axes>"
      ]
     },
     "metadata": {},
     "output_type": "display_data"
    },
    {
     "data": {
      "text/plain": [
       "tensor([[2, 0, 0, 4, 0, 8, 0, 6, 0],\n",
       "        [0, 3, 6, 0, 0, 0, 0, 0, 0],\n",
       "        [0, 5, 0, 0, 0, 2, 9, 0, 7],\n",
       "        [6, 8, 0, 1, 0, 7, 0, 2, 0],\n",
       "        [0, 0, 0, 0, 0, 9, 5, 1, 0],\n",
       "        [0, 0, 0, 0, 0, 3, 0, 0, 4],\n",
       "        [0, 1, 3, 9, 2, 4, 7, 0, 0],\n",
       "        [7, 9, 0, 0, 5, 0, 8, 0, 0],\n",
       "        [5, 0, 4, 8, 0, 1, 0, 0, 3]])"
      ]
     },
     "execution_count": 6,
     "metadata": {},
     "output_type": "execute_result"
    }
   ],
   "source": [
    "fig, ax = plt.subplots(1, 1, figsize=(5, 5))\n",
    "ax.imshow(x.numpy().squeeze(), cmap=\"gray\")\n",
    "plt.show()\n",
    "y"
   ]
  },
  {
   "cell_type": "code",
   "execution_count": 7,
   "id": "855dc044",
   "metadata": {
    "execution": {
     "iopub.execute_input": "2023-02-19T20:01:04.376132Z",
     "iopub.status.busy": "2023-02-19T20:01:04.375597Z",
     "iopub.status.idle": "2023-02-19T20:01:04.396443Z",
     "shell.execute_reply": "2023-02-19T20:01:04.395297Z"
    },
    "papermill": {
     "duration": 0.035619,
     "end_time": "2023-02-19T20:01:04.400052",
     "exception": false,
     "start_time": "2023-02-19T20:01:04.364433",
     "status": "completed"
    },
    "tags": []
   },
   "outputs": [],
   "source": [
    "class DigitClassifier(nn.Module):\n",
    "    def __init__(self):\n",
    "        super(DigitClassifier, self).__init__()\n",
    "        self.conv_block = nn.Sequential(\n",
    "            nn.Conv2d(1, 32, kernel_size=3, stride=1),\n",
    "            nn.BatchNorm2d(32),\n",
    "            nn.ReLU(),\n",
    "            nn.Conv2d(32, 64, kernel_size=3, stride=1, padding=1),\n",
    "            nn.BatchNorm2d(64),\n",
    "            nn.ReLU(),\n",
    "            nn.MaxPool2d(kernel_size=2, stride=2),\n",
    "            nn.Conv2d(64, 128, kernel_size=3, stride=1, padding=1),\n",
    "            nn.BatchNorm2d(128),\n",
    "            nn.ReLU(),\n",
    "            nn.Conv2d(128, 128, kernel_size=3, stride=1, padding=1),\n",
    "            nn.BatchNorm2d(128),\n",
    "            nn.ReLU(),\n",
    "            nn.MaxPool2d(kernel_size=2, stride=2),\n",
    "            nn.Conv2d(128, 256, kernel_size=3, stride=1, padding=1),\n",
    "            nn.BatchNorm2d(256),\n",
    "            nn.ReLU(),\n",
    "            nn.Conv2d(256, 256, kernel_size=3, stride=1, padding=1),\n",
    "            nn.BatchNorm2d(256),\n",
    "            nn.ReLU(),\n",
    "            nn.MaxPool2d(kernel_size=2, stride=2),\n",
    "            nn.AdaptiveAvgPool2d(9),\n",
    "            nn.Conv2d(256, 128, kernel_size=1, stride=1),\n",
    "            nn.BatchNorm2d(128),\n",
    "            nn.ReLU(),\n",
    "            nn.Conv2d(128, 64, kernel_size=1, stride=1),\n",
    "            nn.BatchNorm2d(64),\n",
    "            nn.ReLU(),\n",
    "            nn.Conv2d(64, 10, kernel_size=1, stride=1),\n",
    "        )\n",
    "    \n",
    "    def forward(self, x):\n",
    "        x = self.conv_block(x)\n",
    "        return x"
   ]
  },
  {
   "cell_type": "code",
   "execution_count": 8,
   "id": "5adf495d",
   "metadata": {
    "execution": {
     "iopub.execute_input": "2023-02-19T20:01:04.420941Z",
     "iopub.status.busy": "2023-02-19T20:01:04.420473Z",
     "iopub.status.idle": "2023-02-19T20:01:04.426413Z",
     "shell.execute_reply": "2023-02-19T20:01:04.425359Z"
    },
    "papermill": {
     "duration": 0.021457,
     "end_time": "2023-02-19T20:01:04.431663",
     "exception": false,
     "start_time": "2023-02-19T20:01:04.410206",
     "status": "completed"
    },
    "tags": []
   },
   "outputs": [],
   "source": [
    "def count_parameters(model):\n",
    "    return sum(p.numel() for p in model.parameters() if p.requires_grad)"
   ]
  },
  {
   "cell_type": "code",
   "execution_count": 9,
   "id": "3039b4f2",
   "metadata": {
    "execution": {
     "iopub.execute_input": "2023-02-19T20:01:04.452034Z",
     "iopub.status.busy": "2023-02-19T20:01:04.451534Z",
     "iopub.status.idle": "2023-02-19T20:01:09.792731Z",
     "shell.execute_reply": "2023-02-19T20:01:09.791587Z"
    },
    "papermill": {
     "duration": 5.35483,
     "end_time": "2023-02-19T20:01:09.795686",
     "exception": false,
     "start_time": "2023-02-19T20:01:04.440856",
     "status": "completed"
    },
    "tags": []
   },
   "outputs": [
    {
     "name": "stdout",
     "output_type": "stream",
     "text": [
      "Model has 1.17M trainable parameters\n",
      "torch.Size([1, 10, 9, 9])\n"
     ]
    }
   ],
   "source": [
    "model = DigitClassifier()\n",
    "model.to(device)\n",
    "print(f\"Model has {count_parameters(model)/1e6:.2f}M trainable parameters\")\n",
    "\n",
    "# Check the shape of the output\n",
    "with torch.no_grad():\n",
    "    print(model(x.to(device).unsqueeze(0)).shape)"
   ]
  },
  {
   "cell_type": "markdown",
   "id": "14e56a8a",
   "metadata": {
    "papermill": {
     "duration": 0.006224,
     "end_time": "2023-02-19T20:01:09.808416",
     "exception": false,
     "start_time": "2023-02-19T20:01:09.802192",
     "status": "completed"
    },
    "tags": []
   },
   "source": [
    "## Training loop"
   ]
  },
  {
   "cell_type": "code",
   "execution_count": 10,
   "id": "63864619",
   "metadata": {
    "execution": {
     "iopub.execute_input": "2023-02-19T20:01:09.823956Z",
     "iopub.status.busy": "2023-02-19T20:01:09.822670Z",
     "iopub.status.idle": "2023-02-19T20:01:09.829386Z",
     "shell.execute_reply": "2023-02-19T20:01:09.828293Z"
    },
    "papermill": {
     "duration": 0.016779,
     "end_time": "2023-02-19T20:01:09.831799",
     "exception": false,
     "start_time": "2023-02-19T20:01:09.815020",
     "status": "completed"
    },
    "tags": []
   },
   "outputs": [],
   "source": [
    "optimizer = torch.optim.Adam(model.parameters(), lr=1e-3)\n",
    "criterion = nn.CrossEntropyLoss()"
   ]
  },
  {
   "cell_type": "code",
   "execution_count": 11,
   "id": "e6fa7cdd",
   "metadata": {
    "execution": {
     "iopub.execute_input": "2023-02-19T20:01:09.846303Z",
     "iopub.status.busy": "2023-02-19T20:01:09.845861Z",
     "iopub.status.idle": "2023-02-19T20:03:42.115833Z",
     "shell.execute_reply": "2023-02-19T20:03:42.114612Z"
    },
    "papermill": {
     "duration": 152.286572,
     "end_time": "2023-02-19T20:03:42.124762",
     "exception": false,
     "start_time": "2023-02-19T20:01:09.838190",
     "status": "completed"
    },
    "tags": []
   },
   "outputs": [
    {
     "data": {
      "application/vnd.jupyter.widget-view+json": {
       "model_id": "2233ce4147f94ce0ade484ac714c95d8",
       "version_major": 2,
       "version_minor": 0
      },
      "text/plain": [
       "  0%|          | 0/168 [00:00<?, ?it/s]"
      ]
     },
     "metadata": {},
     "output_type": "display_data"
    },
    {
     "name": "stdout",
     "output_type": "stream",
     "text": [
      "Epoch 1/2 - val_loss: 0.06943986493916739 - val_acc: 0.995365763773724\n"
     ]
    },
    {
     "data": {
      "application/vnd.jupyter.widget-view+json": {
       "model_id": "815ac3a7fca148439fc24a1b99073e53",
       "version_major": 2,
       "version_minor": 0
      },
      "text/plain": [
       "  0%|          | 0/168 [00:00<?, ?it/s]"
      ]
     },
     "metadata": {},
     "output_type": "display_data"
    },
    {
     "name": "stdout",
     "output_type": "stream",
     "text": [
      "Epoch 2/2 - val_loss: 0.04330491496338731 - val_acc: 0.9915883545236779\n"
     ]
    }
   ],
   "source": [
    "N_EPOCHS = 2\n",
    "\n",
    "for epoch in range(N_EPOCHS):\n",
    "    model.train()\n",
    "    for x, y in tqdm(train_loader):\n",
    "        x, y = x.to(device), y.to(device)\n",
    "        optimizer.zero_grad()\n",
    "        y_pred = model(x)\n",
    "        loss = criterion(y_pred, y)\n",
    "        loss.backward()\n",
    "        optimizer.step()\n",
    "    \n",
    "    model.eval()\n",
    "    with torch.no_grad():\n",
    "        val_loss = 0\n",
    "        val_acc = 0\n",
    "        for x, y in val_loader:\n",
    "            x, y = x.to(device), y.to(device)\n",
    "            y_pred = model(x)\n",
    "            loss = criterion(y_pred, y)\n",
    "            val_loss += loss.item()\n",
    "            val_acc += (y_pred.argmax(dim=1) == y).sum().item()\n",
    "        print(f\"Epoch {epoch + 1}/{N_EPOCHS} - val_loss: {val_loss / len(val_loader)} - val_acc: {val_acc / len(val_ds) / 9 / 9}\")"
   ]
  },
  {
   "cell_type": "code",
   "execution_count": null,
   "id": "422901ee",
   "metadata": {
    "papermill": {
     "duration": 0.006533,
     "end_time": "2023-02-19T20:03:42.138214",
     "exception": false,
     "start_time": "2023-02-19T20:03:42.131681",
     "status": "completed"
    },
    "tags": []
   },
   "outputs": [],
   "source": []
  }
 ],
 "metadata": {
  "kernelspec": {
   "display_name": "Python 3",
   "language": "python",
   "name": "python3"
  },
  "language_info": {
   "codemirror_mode": {
    "name": "ipython",
    "version": 3
   },
   "file_extension": ".py",
   "mimetype": "text/x-python",
   "name": "python",
   "nbconvert_exporter": "python",
   "pygments_lexer": "ipython3",
   "version": "3.7.12"
  },
  "papermill": {
   "default_parameters": {},
   "duration": 171.661549,
   "end_time": "2023-02-19T20:03:43.772604",
   "environment_variables": {},
   "exception": null,
   "input_path": "__notebook__.ipynb",
   "output_path": "__notebook__.ipynb",
   "parameters": {},
   "start_time": "2023-02-19T20:00:52.111055",
   "version": "2.3.4"
  },
  "widgets": {
   "application/vnd.jupyter.widget-state+json": {
    "state": {
     "1c85da79767b4d21b844f2cc18bd97bf": {
      "model_module": "@jupyter-widgets/base",
      "model_module_version": "1.2.0",
      "model_name": "LayoutModel",
      "state": {
       "_model_module": "@jupyter-widgets/base",
       "_model_module_version": "1.2.0",
       "_model_name": "LayoutModel",
       "_view_count": null,
       "_view_module": "@jupyter-widgets/base",
       "_view_module_version": "1.2.0",
       "_view_name": "LayoutView",
       "align_content": null,
       "align_items": null,
       "align_self": null,
       "border": null,
       "bottom": null,
       "display": null,
       "flex": null,
       "flex_flow": null,
       "grid_area": null,
       "grid_auto_columns": null,
       "grid_auto_flow": null,
       "grid_auto_rows": null,
       "grid_column": null,
       "grid_gap": null,
       "grid_row": null,
       "grid_template_areas": null,
       "grid_template_columns": null,
       "grid_template_rows": null,
       "height": null,
       "justify_content": null,
       "justify_items": null,
       "left": null,
       "margin": null,
       "max_height": null,
       "max_width": null,
       "min_height": null,
       "min_width": null,
       "object_fit": null,
       "object_position": null,
       "order": null,
       "overflow": null,
       "overflow_x": null,
       "overflow_y": null,
       "padding": null,
       "right": null,
       "top": null,
       "visibility": null,
       "width": null
      }
     },
     "2233ce4147f94ce0ade484ac714c95d8": {
      "model_module": "@jupyter-widgets/controls",
      "model_module_version": "1.5.0",
      "model_name": "HBoxModel",
      "state": {
       "_dom_classes": [],
       "_model_module": "@jupyter-widgets/controls",
       "_model_module_version": "1.5.0",
       "_model_name": "HBoxModel",
       "_view_count": null,
       "_view_module": "@jupyter-widgets/controls",
       "_view_module_version": "1.5.0",
       "_view_name": "HBoxView",
       "box_style": "",
       "children": [
        "IPY_MODEL_321685ee6a5444b8afd37d8c14b979ca",
        "IPY_MODEL_c4b091252a0c41519cf35b582c132ff3",
        "IPY_MODEL_5d473ad6c65642c18b62494a2db08117"
       ],
       "layout": "IPY_MODEL_59444835f0544875b2edbe0ebbbc0c92"
      }
     },
     "23859ec36b7e4f94bee5731f404b35f1": {
      "model_module": "@jupyter-widgets/controls",
      "model_module_version": "1.5.0",
      "model_name": "DescriptionStyleModel",
      "state": {
       "_model_module": "@jupyter-widgets/controls",
       "_model_module_version": "1.5.0",
       "_model_name": "DescriptionStyleModel",
       "_view_count": null,
       "_view_module": "@jupyter-widgets/base",
       "_view_module_version": "1.2.0",
       "_view_name": "StyleView",
       "description_width": ""
      }
     },
     "321685ee6a5444b8afd37d8c14b979ca": {
      "model_module": "@jupyter-widgets/controls",
      "model_module_version": "1.5.0",
      "model_name": "HTMLModel",
      "state": {
       "_dom_classes": [],
       "_model_module": "@jupyter-widgets/controls",
       "_model_module_version": "1.5.0",
       "_model_name": "HTMLModel",
       "_view_count": null,
       "_view_module": "@jupyter-widgets/controls",
       "_view_module_version": "1.5.0",
       "_view_name": "HTMLView",
       "description": "",
       "description_tooltip": null,
       "layout": "IPY_MODEL_536edc49f06d410bae9995b77e3edc2a",
       "placeholder": "​",
       "style": "IPY_MODEL_23859ec36b7e4f94bee5731f404b35f1",
       "value": "100%"
      }
     },
     "536edc49f06d410bae9995b77e3edc2a": {
      "model_module": "@jupyter-widgets/base",
      "model_module_version": "1.2.0",
      "model_name": "LayoutModel",
      "state": {
       "_model_module": "@jupyter-widgets/base",
       "_model_module_version": "1.2.0",
       "_model_name": "LayoutModel",
       "_view_count": null,
       "_view_module": "@jupyter-widgets/base",
       "_view_module_version": "1.2.0",
       "_view_name": "LayoutView",
       "align_content": null,
       "align_items": null,
       "align_self": null,
       "border": null,
       "bottom": null,
       "display": null,
       "flex": null,
       "flex_flow": null,
       "grid_area": null,
       "grid_auto_columns": null,
       "grid_auto_flow": null,
       "grid_auto_rows": null,
       "grid_column": null,
       "grid_gap": null,
       "grid_row": null,
       "grid_template_areas": null,
       "grid_template_columns": null,
       "grid_template_rows": null,
       "height": null,
       "justify_content": null,
       "justify_items": null,
       "left": null,
       "margin": null,
       "max_height": null,
       "max_width": null,
       "min_height": null,
       "min_width": null,
       "object_fit": null,
       "object_position": null,
       "order": null,
       "overflow": null,
       "overflow_x": null,
       "overflow_y": null,
       "padding": null,
       "right": null,
       "top": null,
       "visibility": null,
       "width": null
      }
     },
     "5492d6abdbb542a299a64ec4d2d5de93": {
      "model_module": "@jupyter-widgets/base",
      "model_module_version": "1.2.0",
      "model_name": "LayoutModel",
      "state": {
       "_model_module": "@jupyter-widgets/base",
       "_model_module_version": "1.2.0",
       "_model_name": "LayoutModel",
       "_view_count": null,
       "_view_module": "@jupyter-widgets/base",
       "_view_module_version": "1.2.0",
       "_view_name": "LayoutView",
       "align_content": null,
       "align_items": null,
       "align_self": null,
       "border": null,
       "bottom": null,
       "display": null,
       "flex": null,
       "flex_flow": null,
       "grid_area": null,
       "grid_auto_columns": null,
       "grid_auto_flow": null,
       "grid_auto_rows": null,
       "grid_column": null,
       "grid_gap": null,
       "grid_row": null,
       "grid_template_areas": null,
       "grid_template_columns": null,
       "grid_template_rows": null,
       "height": null,
       "justify_content": null,
       "justify_items": null,
       "left": null,
       "margin": null,
       "max_height": null,
       "max_width": null,
       "min_height": null,
       "min_width": null,
       "object_fit": null,
       "object_position": null,
       "order": null,
       "overflow": null,
       "overflow_x": null,
       "overflow_y": null,
       "padding": null,
       "right": null,
       "top": null,
       "visibility": null,
       "width": null
      }
     },
     "59444835f0544875b2edbe0ebbbc0c92": {
      "model_module": "@jupyter-widgets/base",
      "model_module_version": "1.2.0",
      "model_name": "LayoutModel",
      "state": {
       "_model_module": "@jupyter-widgets/base",
       "_model_module_version": "1.2.0",
       "_model_name": "LayoutModel",
       "_view_count": null,
       "_view_module": "@jupyter-widgets/base",
       "_view_module_version": "1.2.0",
       "_view_name": "LayoutView",
       "align_content": null,
       "align_items": null,
       "align_self": null,
       "border": null,
       "bottom": null,
       "display": null,
       "flex": null,
       "flex_flow": null,
       "grid_area": null,
       "grid_auto_columns": null,
       "grid_auto_flow": null,
       "grid_auto_rows": null,
       "grid_column": null,
       "grid_gap": null,
       "grid_row": null,
       "grid_template_areas": null,
       "grid_template_columns": null,
       "grid_template_rows": null,
       "height": null,
       "justify_content": null,
       "justify_items": null,
       "left": null,
       "margin": null,
       "max_height": null,
       "max_width": null,
       "min_height": null,
       "min_width": null,
       "object_fit": null,
       "object_position": null,
       "order": null,
       "overflow": null,
       "overflow_x": null,
       "overflow_y": null,
       "padding": null,
       "right": null,
       "top": null,
       "visibility": null,
       "width": null
      }
     },
     "5d473ad6c65642c18b62494a2db08117": {
      "model_module": "@jupyter-widgets/controls",
      "model_module_version": "1.5.0",
      "model_name": "HTMLModel",
      "state": {
       "_dom_classes": [],
       "_model_module": "@jupyter-widgets/controls",
       "_model_module_version": "1.5.0",
       "_model_name": "HTMLModel",
       "_view_count": null,
       "_view_module": "@jupyter-widgets/controls",
       "_view_module_version": "1.5.0",
       "_view_name": "HTMLView",
       "description": "",
       "description_tooltip": null,
       "layout": "IPY_MODEL_6b6fc69f8229478c99e08bc2b5f9d370",
       "placeholder": "​",
       "style": "IPY_MODEL_fbc4870256f949c5ba420e8cb7cb3eed",
       "value": " 168/168 [01:07&lt;00:00,  2.48it/s]"
      }
     },
     "612e5d630e0b429c98e6e809e8ea70f8": {
      "model_module": "@jupyter-widgets/base",
      "model_module_version": "1.2.0",
      "model_name": "LayoutModel",
      "state": {
       "_model_module": "@jupyter-widgets/base",
       "_model_module_version": "1.2.0",
       "_model_name": "LayoutModel",
       "_view_count": null,
       "_view_module": "@jupyter-widgets/base",
       "_view_module_version": "1.2.0",
       "_view_name": "LayoutView",
       "align_content": null,
       "align_items": null,
       "align_self": null,
       "border": null,
       "bottom": null,
       "display": null,
       "flex": null,
       "flex_flow": null,
       "grid_area": null,
       "grid_auto_columns": null,
       "grid_auto_flow": null,
       "grid_auto_rows": null,
       "grid_column": null,
       "grid_gap": null,
       "grid_row": null,
       "grid_template_areas": null,
       "grid_template_columns": null,
       "grid_template_rows": null,
       "height": null,
       "justify_content": null,
       "justify_items": null,
       "left": null,
       "margin": null,
       "max_height": null,
       "max_width": null,
       "min_height": null,
       "min_width": null,
       "object_fit": null,
       "object_position": null,
       "order": null,
       "overflow": null,
       "overflow_x": null,
       "overflow_y": null,
       "padding": null,
       "right": null,
       "top": null,
       "visibility": null,
       "width": null
      }
     },
     "6aeb69b00c61440c9f09e02332d4cd7f": {
      "model_module": "@jupyter-widgets/base",
      "model_module_version": "1.2.0",
      "model_name": "LayoutModel",
      "state": {
       "_model_module": "@jupyter-widgets/base",
       "_model_module_version": "1.2.0",
       "_model_name": "LayoutModel",
       "_view_count": null,
       "_view_module": "@jupyter-widgets/base",
       "_view_module_version": "1.2.0",
       "_view_name": "LayoutView",
       "align_content": null,
       "align_items": null,
       "align_self": null,
       "border": null,
       "bottom": null,
       "display": null,
       "flex": null,
       "flex_flow": null,
       "grid_area": null,
       "grid_auto_columns": null,
       "grid_auto_flow": null,
       "grid_auto_rows": null,
       "grid_column": null,
       "grid_gap": null,
       "grid_row": null,
       "grid_template_areas": null,
       "grid_template_columns": null,
       "grid_template_rows": null,
       "height": null,
       "justify_content": null,
       "justify_items": null,
       "left": null,
       "margin": null,
       "max_height": null,
       "max_width": null,
       "min_height": null,
       "min_width": null,
       "object_fit": null,
       "object_position": null,
       "order": null,
       "overflow": null,
       "overflow_x": null,
       "overflow_y": null,
       "padding": null,
       "right": null,
       "top": null,
       "visibility": null,
       "width": null
      }
     },
     "6b6fc69f8229478c99e08bc2b5f9d370": {
      "model_module": "@jupyter-widgets/base",
      "model_module_version": "1.2.0",
      "model_name": "LayoutModel",
      "state": {
       "_model_module": "@jupyter-widgets/base",
       "_model_module_version": "1.2.0",
       "_model_name": "LayoutModel",
       "_view_count": null,
       "_view_module": "@jupyter-widgets/base",
       "_view_module_version": "1.2.0",
       "_view_name": "LayoutView",
       "align_content": null,
       "align_items": null,
       "align_self": null,
       "border": null,
       "bottom": null,
       "display": null,
       "flex": null,
       "flex_flow": null,
       "grid_area": null,
       "grid_auto_columns": null,
       "grid_auto_flow": null,
       "grid_auto_rows": null,
       "grid_column": null,
       "grid_gap": null,
       "grid_row": null,
       "grid_template_areas": null,
       "grid_template_columns": null,
       "grid_template_rows": null,
       "height": null,
       "justify_content": null,
       "justify_items": null,
       "left": null,
       "margin": null,
       "max_height": null,
       "max_width": null,
       "min_height": null,
       "min_width": null,
       "object_fit": null,
       "object_position": null,
       "order": null,
       "overflow": null,
       "overflow_x": null,
       "overflow_y": null,
       "padding": null,
       "right": null,
       "top": null,
       "visibility": null,
       "width": null
      }
     },
     "803042871bfc41de9cb66b0b04a5dea4": {
      "model_module": "@jupyter-widgets/controls",
      "model_module_version": "1.5.0",
      "model_name": "FloatProgressModel",
      "state": {
       "_dom_classes": [],
       "_model_module": "@jupyter-widgets/controls",
       "_model_module_version": "1.5.0",
       "_model_name": "FloatProgressModel",
       "_view_count": null,
       "_view_module": "@jupyter-widgets/controls",
       "_view_module_version": "1.5.0",
       "_view_name": "ProgressView",
       "bar_style": "success",
       "description": "",
       "description_tooltip": null,
       "layout": "IPY_MODEL_adabfdae58f746b891fe63af551582a3",
       "max": 168.0,
       "min": 0.0,
       "orientation": "horizontal",
       "style": "IPY_MODEL_f3487c068e65498c92ed9479a287337c",
       "value": 168.0
      }
     },
     "815ac3a7fca148439fc24a1b99073e53": {
      "model_module": "@jupyter-widgets/controls",
      "model_module_version": "1.5.0",
      "model_name": "HBoxModel",
      "state": {
       "_dom_classes": [],
       "_model_module": "@jupyter-widgets/controls",
       "_model_module_version": "1.5.0",
       "_model_name": "HBoxModel",
       "_view_count": null,
       "_view_module": "@jupyter-widgets/controls",
       "_view_module_version": "1.5.0",
       "_view_name": "HBoxView",
       "box_style": "",
       "children": [
        "IPY_MODEL_bf8bc61934b84212b251fecde457a336",
        "IPY_MODEL_803042871bfc41de9cb66b0b04a5dea4",
        "IPY_MODEL_e574f61c161e43839727134dc7db8bf1"
       ],
       "layout": "IPY_MODEL_5492d6abdbb542a299a64ec4d2d5de93"
      }
     },
     "821246b5bd8a495ab1e5120ebfb00724": {
      "model_module": "@jupyter-widgets/controls",
      "model_module_version": "1.5.0",
      "model_name": "DescriptionStyleModel",
      "state": {
       "_model_module": "@jupyter-widgets/controls",
       "_model_module_version": "1.5.0",
       "_model_name": "DescriptionStyleModel",
       "_view_count": null,
       "_view_module": "@jupyter-widgets/base",
       "_view_module_version": "1.2.0",
       "_view_name": "StyleView",
       "description_width": ""
      }
     },
     "a775444c0a174bbfafd788983fd2250a": {
      "model_module": "@jupyter-widgets/controls",
      "model_module_version": "1.5.0",
      "model_name": "ProgressStyleModel",
      "state": {
       "_model_module": "@jupyter-widgets/controls",
       "_model_module_version": "1.5.0",
       "_model_name": "ProgressStyleModel",
       "_view_count": null,
       "_view_module": "@jupyter-widgets/base",
       "_view_module_version": "1.2.0",
       "_view_name": "StyleView",
       "bar_color": null,
       "description_width": ""
      }
     },
     "adabfdae58f746b891fe63af551582a3": {
      "model_module": "@jupyter-widgets/base",
      "model_module_version": "1.2.0",
      "model_name": "LayoutModel",
      "state": {
       "_model_module": "@jupyter-widgets/base",
       "_model_module_version": "1.2.0",
       "_model_name": "LayoutModel",
       "_view_count": null,
       "_view_module": "@jupyter-widgets/base",
       "_view_module_version": "1.2.0",
       "_view_name": "LayoutView",
       "align_content": null,
       "align_items": null,
       "align_self": null,
       "border": null,
       "bottom": null,
       "display": null,
       "flex": null,
       "flex_flow": null,
       "grid_area": null,
       "grid_auto_columns": null,
       "grid_auto_flow": null,
       "grid_auto_rows": null,
       "grid_column": null,
       "grid_gap": null,
       "grid_row": null,
       "grid_template_areas": null,
       "grid_template_columns": null,
       "grid_template_rows": null,
       "height": null,
       "justify_content": null,
       "justify_items": null,
       "left": null,
       "margin": null,
       "max_height": null,
       "max_width": null,
       "min_height": null,
       "min_width": null,
       "object_fit": null,
       "object_position": null,
       "order": null,
       "overflow": null,
       "overflow_x": null,
       "overflow_y": null,
       "padding": null,
       "right": null,
       "top": null,
       "visibility": null,
       "width": null
      }
     },
     "b5b8459f016c487499b8c49ef661f773": {
      "model_module": "@jupyter-widgets/controls",
      "model_module_version": "1.5.0",
      "model_name": "DescriptionStyleModel",
      "state": {
       "_model_module": "@jupyter-widgets/controls",
       "_model_module_version": "1.5.0",
       "_model_name": "DescriptionStyleModel",
       "_view_count": null,
       "_view_module": "@jupyter-widgets/base",
       "_view_module_version": "1.2.0",
       "_view_name": "StyleView",
       "description_width": ""
      }
     },
     "bf8bc61934b84212b251fecde457a336": {
      "model_module": "@jupyter-widgets/controls",
      "model_module_version": "1.5.0",
      "model_name": "HTMLModel",
      "state": {
       "_dom_classes": [],
       "_model_module": "@jupyter-widgets/controls",
       "_model_module_version": "1.5.0",
       "_model_name": "HTMLModel",
       "_view_count": null,
       "_view_module": "@jupyter-widgets/controls",
       "_view_module_version": "1.5.0",
       "_view_name": "HTMLView",
       "description": "",
       "description_tooltip": null,
       "layout": "IPY_MODEL_1c85da79767b4d21b844f2cc18bd97bf",
       "placeholder": "​",
       "style": "IPY_MODEL_b5b8459f016c487499b8c49ef661f773",
       "value": "100%"
      }
     },
     "c4b091252a0c41519cf35b582c132ff3": {
      "model_module": "@jupyter-widgets/controls",
      "model_module_version": "1.5.0",
      "model_name": "FloatProgressModel",
      "state": {
       "_dom_classes": [],
       "_model_module": "@jupyter-widgets/controls",
       "_model_module_version": "1.5.0",
       "_model_name": "FloatProgressModel",
       "_view_count": null,
       "_view_module": "@jupyter-widgets/controls",
       "_view_module_version": "1.5.0",
       "_view_name": "ProgressView",
       "bar_style": "success",
       "description": "",
       "description_tooltip": null,
       "layout": "IPY_MODEL_6aeb69b00c61440c9f09e02332d4cd7f",
       "max": 168.0,
       "min": 0.0,
       "orientation": "horizontal",
       "style": "IPY_MODEL_a775444c0a174bbfafd788983fd2250a",
       "value": 168.0
      }
     },
     "e574f61c161e43839727134dc7db8bf1": {
      "model_module": "@jupyter-widgets/controls",
      "model_module_version": "1.5.0",
      "model_name": "HTMLModel",
      "state": {
       "_dom_classes": [],
       "_model_module": "@jupyter-widgets/controls",
       "_model_module_version": "1.5.0",
       "_model_name": "HTMLModel",
       "_view_count": null,
       "_view_module": "@jupyter-widgets/controls",
       "_view_module_version": "1.5.0",
       "_view_name": "HTMLView",
       "description": "",
       "description_tooltip": null,
       "layout": "IPY_MODEL_612e5d630e0b429c98e6e809e8ea70f8",
       "placeholder": "​",
       "style": "IPY_MODEL_821246b5bd8a495ab1e5120ebfb00724",
       "value": " 168/168 [01:06&lt;00:00,  2.51it/s]"
      }
     },
     "f3487c068e65498c92ed9479a287337c": {
      "model_module": "@jupyter-widgets/controls",
      "model_module_version": "1.5.0",
      "model_name": "ProgressStyleModel",
      "state": {
       "_model_module": "@jupyter-widgets/controls",
       "_model_module_version": "1.5.0",
       "_model_name": "ProgressStyleModel",
       "_view_count": null,
       "_view_module": "@jupyter-widgets/base",
       "_view_module_version": "1.2.0",
       "_view_name": "StyleView",
       "bar_color": null,
       "description_width": ""
      }
     },
     "fbc4870256f949c5ba420e8cb7cb3eed": {
      "model_module": "@jupyter-widgets/controls",
      "model_module_version": "1.5.0",
      "model_name": "DescriptionStyleModel",
      "state": {
       "_model_module": "@jupyter-widgets/controls",
       "_model_module_version": "1.5.0",
       "_model_name": "DescriptionStyleModel",
       "_view_count": null,
       "_view_module": "@jupyter-widgets/base",
       "_view_module_version": "1.2.0",
       "_view_name": "StyleView",
       "description_width": ""
      }
     }
    },
    "version_major": 2,
    "version_minor": 0
   }
  }
 },
 "nbformat": 4,
 "nbformat_minor": 5
}
